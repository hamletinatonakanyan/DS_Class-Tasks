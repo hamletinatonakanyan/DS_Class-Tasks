{
 "cells": [
  {
   "cell_type": "code",
   "execution_count": 2,
   "metadata": {
    "collapsed": true
   },
   "outputs": [],
   "source": [
    "import numpy as np\n",
    "import pandas as pd\n",
    "import matplotlib.pyplot as plt\n",
    "%matplotlib inline"
   ]
  },
  {
   "cell_type": "markdown",
   "source": [
    "Multivariate Linear Regression with Gradient Descent algorithm implementation"
   ],
   "metadata": {
    "collapsed": false
   }
  },
  {
   "cell_type": "code",
   "execution_count": 3,
   "outputs": [],
   "source": [
    "# implement functions\n",
    "\n",
    "def computeCostFunction(X, y, theta):\n",
    "    each_value = np.power(((X * theta.T) - y), 2)\n",
    "    return sum(each_value) / (2 * len(X))\n",
    "\n",
    "def gradient_Descent(X, y, theta, alpha, epochs):\n",
    "    temp = np.matrix(np.zeros(theta.shape))\n",
    "    parameters =int(theta.ravel().shape[1])\n",
    "    cost = np.zeros(epochs)\n",
    "\n",
    "    for i in range(epochs):\n",
    "        error = (X * theta.T) - y\n",
    "        for j in range(parameters):\n",
    "            term = np.multiply(error, X[:, j])\n",
    "            temp[0, j] = temp[0, j] -  (alpha/(len(X)) * np.sum(term))\n",
    "        theta = temp\n",
    "        cost[i] = computeCostFunction(X, y, theta)\n",
    "\n",
    "    return theta, cost"
   ],
   "metadata": {
    "collapsed": false,
    "pycharm": {
     "name": "#%%\n"
    }
   }
  },
  {
   "cell_type": "code",
   "execution_count": 4,
   "outputs": [],
   "source": [
    "# load data\n",
    "\n",
    "data_ex2 = pd.read_csv(\"ex1data2.txt\", names=['Size', 'Bedrooms', 'Price'])"
   ],
   "metadata": {
    "collapsed": false,
    "pycharm": {
     "name": "#%%\n"
    }
   }
  },
  {
   "cell_type": "code",
   "execution_count": 5,
   "outputs": [
    {
     "data": {
      "text/plain": "       Size  Bedrooms     Price\n0  0.130010 -0.223675  0.475747\n1 -0.504190 -0.223675 -0.084074\n2  0.502476 -0.223675  0.228626\n3 -0.735723 -1.537767 -0.867025\n4  1.257476  1.090417  1.595389",
      "text/html": "<div>\n<style scoped>\n    .dataframe tbody tr th:only-of-type {\n        vertical-align: middle;\n    }\n\n    .dataframe tbody tr th {\n        vertical-align: top;\n    }\n\n    .dataframe thead th {\n        text-align: right;\n    }\n</style>\n<table border=\"1\" class=\"dataframe\">\n  <thead>\n    <tr style=\"text-align: right;\">\n      <th></th>\n      <th>Size</th>\n      <th>Bedrooms</th>\n      <th>Price</th>\n    </tr>\n  </thead>\n  <tbody>\n    <tr>\n      <th>0</th>\n      <td>0.130010</td>\n      <td>-0.223675</td>\n      <td>0.475747</td>\n    </tr>\n    <tr>\n      <th>1</th>\n      <td>-0.504190</td>\n      <td>-0.223675</td>\n      <td>-0.084074</td>\n    </tr>\n    <tr>\n      <th>2</th>\n      <td>0.502476</td>\n      <td>-0.223675</td>\n      <td>0.228626</td>\n    </tr>\n    <tr>\n      <th>3</th>\n      <td>-0.735723</td>\n      <td>-1.537767</td>\n      <td>-0.867025</td>\n    </tr>\n    <tr>\n      <th>4</th>\n      <td>1.257476</td>\n      <td>1.090417</td>\n      <td>1.595389</td>\n    </tr>\n  </tbody>\n</table>\n</div>"
     },
     "execution_count": 5,
     "metadata": {},
     "output_type": "execute_result"
    }
   ],
   "source": [
    "# Normalize matrix so that data could lie in range (-1, 1)\n",
    "data_ex2 = (data_ex2 - data_ex2.mean()) / data_ex2.std()\n",
    "data_ex2.head()"
   ],
   "metadata": {
    "collapsed": false,
    "pycharm": {
     "name": "#%%\n"
    }
   }
  },
  {
   "cell_type": "code",
   "execution_count": 6,
   "outputs": [],
   "source": [
    "# add column with ones in data\n",
    "data_ex2.insert(0, \"Ones\", 1)"
   ],
   "metadata": {
    "collapsed": false,
    "pycharm": {
     "name": "#%%\n"
    }
   }
  },
  {
   "cell_type": "code",
   "execution_count": 7,
   "outputs": [],
   "source": [
    "# define variables\n",
    "cols = data_ex2.shape[1]\n",
    "X = data_ex2.iloc[:, 0:cols-1]\n",
    "y = data_ex2.iloc[:, cols-1:cols]\n",
    "\n",
    "X = np.matrix(X.values)\n",
    "y = np.matrix(y.values)\n",
    "theta = np.matrix(np.array([0, 0, 0]))\n"
   ],
   "metadata": {
    "collapsed": false,
    "pycharm": {
     "name": "#%%\n"
    }
   }
  },
  {
   "cell_type": "code",
   "execution_count": 8,
   "outputs": [
    {
     "name": "stdout",
     "output_type": "stream",
     "text": [
      "slope values after optimization: [[-1.10738841e-16  6.21450024e-01  1.48705507e-01]] \n",
      "Cost values after optimization:\n",
      "[0.42240494 0.36976889 0.32823909 0.29533361 0.26913536 0.24816282\n",
      " 0.23127044 0.21757183 0.20638053 0.19716445 0.18951061 0.18309803\n",
      " 0.17767684 0.17305212 0.16907145 0.16561532 0.16258975 0.15992048\n",
      " 0.15754868 0.15542742]\n"
     ]
    }
   ],
   "source": [
    "# call defined functions\n",
    "gd_theta, cost2 = gradient_Descent(X, y, theta, 0.08, 20)\n",
    "print(f'slope values after optimization: {gd_theta} \\nCost values after optimization:\\n{cost2}')"
   ],
   "metadata": {
    "collapsed": false,
    "pycharm": {
     "name": "#%%\n"
    }
   }
  },
  {
   "cell_type": "code",
   "execution_count": 9,
   "outputs": [
    {
     "name": "stdout",
     "output_type": "stream",
     "text": [
      "Cost function: \n"
     ]
    },
    {
     "data": {
      "text/plain": "matrix([[0.4893617]])"
     },
     "execution_count": 9,
     "metadata": {},
     "output_type": "execute_result"
    }
   ],
   "source": [
    "print('Cost function: ')\n",
    "computeCostFunction(X, y, theta)"
   ],
   "metadata": {
    "collapsed": false,
    "pycharm": {
     "name": "#%%\n"
    }
   }
  },
  {
   "cell_type": "code",
   "execution_count": 10,
   "outputs": [
    {
     "data": {
      "text/plain": "Text(0.5, 1.0, 'Error vs. Training Epoch')"
     },
     "execution_count": 10,
     "metadata": {},
     "output_type": "execute_result"
    },
    {
     "data": {
      "text/plain": "<Figure size 648x432 with 1 Axes>",
      "image/png": "[encoded data removed]"
     },
     "metadata": {
      "needs_background": "light"
     },
     "output_type": "display_data"
    }
   ],
   "source": [
    "# plot cost function\n",
    "fig, ax = plt.subplots(figsize=(9,6))\n",
    "ax.plot(np.arange(20), cost2, 'r')\n",
    "ax.set_xlabel('Iterations')\n",
    "ax.set_ylabel('Cost')\n",
    "ax.set_title('Error vs. Training Epoch')\n"
   ],
   "metadata": {
    "collapsed": false,
    "pycharm": {
     "name": "#%%\n"
    }
   }
  },
  {
   "cell_type": "markdown",
   "source": [
    "One more way of implementation Gradient Descent for Multivariate Linear Regression, step by step\n",
    "y = b0 + b1X1 + b2 * X2 + ... + bnXn"
   ],
   "metadata": {
    "collapsed": false
   }
  },
  {
   "cell_type": "code",
   "execution_count": 11,
   "outputs": [],
   "source": [
    "# Implement functions in details\n",
    "\n",
    "# step1\n",
    "def initialize_parameters(slopes_len):\n",
    "    slope = np.random.randn(slopes_len)   # lenght of features\n",
    "    intercept = 0\n",
    "\n",
    "    return slope, intercept\n",
    "\n",
    "\n",
    "# step2\n",
    "def forward_prop(X, slope, intercept):      # w--> 1xn, X-->nxm, yhat-->1xm, b-->[b b b.....n] vectors\n",
    "    yhat = np.dot(slope, X) + intercept\n",
    "    return yhat\n",
    "\n",
    "\n",
    "# step3: Cost function\n",
    "def cost_function(yhat, y):\n",
    "    m = y.shape[1]\n",
    "    J_cost = (1/(2 *m)) * np.sum(np.square(yhat - y))\n",
    "\n",
    "    return J_cost\n",
    "\n",
    "\n",
    "# step4: Count derivatives of slope and intercept values\n",
    "def derivatives(X, y, yhat):\n",
    "    m = y.shape[1]\n",
    "    delta_yhat = (1/m) * (yhat - y)\n",
    "    delta_slope = delta_yhat.dot(X.T)         # 1xm * mxn = 1xn  shape\n",
    "    delta_intercept = np.sum(delta_yhat)\n",
    "\n",
    "    return delta_slope, delta_intercept\n",
    "\n",
    "\n",
    "# step 5: Update slope and intercept values\n",
    "\n",
    "def update_GD(slope, intercept, delta_slope, delta_intercept, learning_rate):\n",
    "    slope = slope - learning_rate * delta_slope\n",
    "    intercept = intercept - learning_rate * delta_intercept\n",
    "\n",
    "    return slope, intercept\n",
    "\n",
    "\n",
    "# step 6: Creating model\n",
    "\n",
    "def multilinearRegression(x_train, y_train, x_test, y_test, learning_rate, epochs):\n",
    "    slopes_len = x_train.shape[0]\n",
    "    slope, intercept = initialize_parameters(slopes_len)         # step 1\n",
    "\n",
    "    costs_train = []\n",
    "    m_train =  y_train.shape[1]\n",
    "    m_test =  y_test.shape[1]\n",
    "\n",
    "    for i in range(1, epochs+1):\n",
    "        yhat_train = forward_prop(x_train, slope, intercept)     # step 2\n",
    "        cost_train = cost_function(yhat_train, y_train)          # step 3\n",
    "        costs_train.append(cost_train)\n",
    "        delta_slope, delta_intercept = derivatives(x_train, y_train, yhat_train)   # step 4\n",
    "        slope, intercept = update_GD(slope, intercept, delta_slope, delta_intercept, learning_rate)   # step 5\n",
    "\n",
    "\n",
    "        # MSE_train\n",
    "        MAE_train = (1/m_train)* np.sum(np.abs(yhat_train - y_train))\n",
    "\n",
    "        # Cost_set, # MSE_set\n",
    "        yhat_test = forward_prop(x_test, slope, intercept)\n",
    "        cost_test = cost_function(yhat_test, y_test)\n",
    "        MAE_test = (1/m_test)* np.sum(np.abs(yhat_test - y_test))\n",
    "\n",
    "\n",
    "        print(f'epoch: {i}')\n",
    "        print(f'Train cost: {cost_train} |  Test cost: {cost_test}')\n",
    "        print(f'Train MAE: {MAE_train} |  Test MAE: {MAE_test}')\n",
    "\n",
    "\n",
    "    plt.plot(costs_train)\n",
    "    plt.xlabel('Iterations')\n",
    "    plt.ylabel('Training cost')\n",
    "    plt.title(f'learning rate - {learning_rate}')\n",
    "    plt.show()"
   ],
   "metadata": {
    "collapsed": false,
    "pycharm": {
     "name": "#%%\n"
    }
   }
  },
  {
   "cell_type": "code",
   "execution_count": 17,
   "outputs": [
    {
     "data": {
      "text/plain": "      CRIM    ZN  INDUS  CHAS    NOX     RM   AGE     DIS  RAD    TAX  \\\n0  0.00632  18.0   2.31   0.0  0.538  6.575  65.2  4.0900  1.0  296.0   \n1  0.02731   0.0   7.07   0.0  0.469  6.421  78.9  4.9671  2.0  242.0   \n2  0.02729   0.0   7.07   0.0  0.469  7.185  61.1  4.9671  2.0  242.0   \n3  0.03237   0.0   2.18   0.0  0.458  6.998  45.8  6.0622  3.0  222.0   \n4  0.06905   0.0   2.18   0.0  0.458  7.147  54.2  6.0622  3.0  222.0   \n\n   PTRATIO       B  LSTAT  \n0     15.3  396.90   4.98  \n1     17.8  396.90   9.14  \n2     17.8  392.83   4.03  \n3     18.7  394.63   2.94  \n4     18.7  396.90   5.33  ",
      "text/html": "<div>\n<style scoped>\n    .dataframe tbody tr th:only-of-type {\n        vertical-align: middle;\n    }\n\n    .dataframe tbody tr th {\n        vertical-align: top;\n    }\n\n    .dataframe thead th {\n        text-align: right;\n    }\n</style>\n<table border=\"1\" class=\"dataframe\">\n  <thead>\n    <tr style=\"text-align: right;\">\n      <th></th>\n      <th>CRIM</th>\n      <th>ZN</th>\n      <th>INDUS</th>\n      <th>CHAS</th>\n      <th>NOX</th>\n      <th>RM</th>\n      <th>AGE</th>\n      <th>DIS</th>\n      <th>RAD</th>\n      <th>TAX</th>\n      <th>PTRATIO</th>\n      <th>B</th>\n      <th>LSTAT</th>\n    </tr>\n  </thead>\n  <tbody>\n    <tr>\n      <th>0</th>\n      <td>0.00632</td>\n      <td>18.0</td>\n      <td>2.31</td>\n      <td>0.0</td>\n      <td>0.538</td>\n      <td>6.575</td>\n      <td>65.2</td>\n      <td>4.0900</td>\n      <td>1.0</td>\n      <td>296.0</td>\n      <td>15.3</td>\n      <td>396.90</td>\n      <td>4.98</td>\n    </tr>\n    <tr>\n      <th>1</th>\n      <td>0.02731</td>\n      <td>0.0</td>\n      <td>7.07</td>\n      <td>0.0</td>\n      <td>0.469</td>\n      <td>6.421</td>\n      <td>78.9</td>\n      <td>4.9671</td>\n      <td>2.0</td>\n      <td>242.0</td>\n      <td>17.8</td>\n      <td>396.90</td>\n      <td>9.14</td>\n    </tr>\n    <tr>\n      <th>2</th>\n      <td>0.02729</td>\n      <td>0.0</td>\n      <td>7.07</td>\n      <td>0.0</td>\n      <td>0.469</td>\n      <td>7.185</td>\n      <td>61.1</td>\n      <td>4.9671</td>\n      <td>2.0</td>\n      <td>242.0</td>\n      <td>17.8</td>\n      <td>392.83</td>\n      <td>4.03</td>\n    </tr>\n    <tr>\n      <th>3</th>\n      <td>0.03237</td>\n      <td>0.0</td>\n      <td>2.18</td>\n      <td>0.0</td>\n      <td>0.458</td>\n      <td>6.998</td>\n      <td>45.8</td>\n      <td>6.0622</td>\n      <td>3.0</td>\n      <td>222.0</td>\n      <td>18.7</td>\n      <td>394.63</td>\n      <td>2.94</td>\n    </tr>\n    <tr>\n      <th>4</th>\n      <td>0.06905</td>\n      <td>0.0</td>\n      <td>2.18</td>\n      <td>0.0</td>\n      <td>0.458</td>\n      <td>7.147</td>\n      <td>54.2</td>\n      <td>6.0622</td>\n      <td>3.0</td>\n      <td>222.0</td>\n      <td>18.7</td>\n      <td>396.90</td>\n      <td>5.33</td>\n    </tr>\n  </tbody>\n</table>\n</div>"
     },
     "execution_count": 17,
     "metadata": {},
     "output_type": "execute_result"
    }
   ],
   "source": [
    "# load data from sklearn\n",
    "\n",
    "from sklearn.datasets import load_boston\n",
    "boston = load_boston()\n",
    "data = pd.DataFrame(boston['data'], columns=boston['feature_names'])\n",
    "data.head()\n"
   ],
   "metadata": {
    "collapsed": false,
    "pycharm": {
     "name": "#%%\n"
    }
   }
  },
  {
   "cell_type": "code",
   "execution_count": 19,
   "outputs": [],
   "source": [
    "# Normalize matrix so that data could lie in range (-1, 1) and set variables\n",
    "X = (data - data.mean()) / (data.max() - data.mean())\n",
    "X.describe()\n",
    "X.head()\n",
    "\n",
    "y = boston['target']"
   ],
   "metadata": {
    "collapsed": false,
    "pycharm": {
     "name": "#%%\n"
    }
   }
  },
  {
   "cell_type": "code",
   "execution_count": 20,
   "outputs": [],
   "source": [
    "# split data to train and test\n",
    "from sklearn.model_selection import train_test_split\n",
    "X_train, X_test, y_train, y_test = train_test_split(X, y, test_size=0.33, random_state=5)"
   ],
   "metadata": {
    "collapsed": false,
    "pycharm": {
     "name": "#%%\n"
    }
   }
  },
  {
   "cell_type": "code",
   "execution_count": 21,
   "outputs": [],
   "source": [
    "# our model needs X_train has [features : samples] dimension\n",
    "X_train.shape   # --> is samples x features dimension(339, 13)\n",
    "X_train = X_train.T   #--> (13, 339)\n",
    "y_train = np.array([y_train]) #--> (1, 339) [1 : samples] dimension\n"
   ],
   "metadata": {
    "collapsed": false,
    "pycharm": {
     "name": "#%%\n"
    }
   }
  },
  {
   "cell_type": "code",
   "execution_count": 22,
   "outputs": [],
   "source": [
    "# similarly for test set\n",
    "X_test = X_test.T  # (13, 167)\n",
    "y_test = np.array([y_test])   # (1, 167)"
   ],
   "metadata": {
    "collapsed": false,
    "pycharm": {
     "name": "#%%\n"
    }
   }
  },
  {
   "cell_type": "code",
   "execution_count": 26,
   "outputs": [
    {
     "name": "stdout",
     "output_type": "stream",
     "text": [
      "epoch: 1\n",
      "Train cost: 291.66971951290395 |  Test cost: 113.26095219502363\n",
      "Train MAE: 22.53958551565794 |  Test MAE: 9.245672398706713\n",
      "epoch: 2\n",
      "Train cost: 87.82049417573634 |  Test cost: 674.7685490350381\n",
      "Train MAE: 8.09961093173995 |  Test MAE: 23.388763260346177\n",
      "epoch: 3\n",
      "Train cost: 545.9648216753524 |  Test cost: 6107.991624157809\n",
      "Train MAE: 20.87351694455619 |  Test MAE: 68.0199362945336\n",
      "epoch: 4\n",
      "Train cost: 4977.9573774214705 |  Test cost: 57556.72024157268\n",
      "Train MAE: 61.72284043108453 |  Test MAE: 208.88609577338232\n",
      "epoch: 5\n",
      "Train cost: 46817.70954515509 |  Test cost: 542535.6033674541\n",
      "Train MAE: 188.7396253484647 |  Test MAE: 640.4411653738326\n",
      "epoch: 6\n",
      "Train cost: 441649.0134249704 |  Test cost: 5120401.584198759\n",
      "Train MAE: 580.0650219266979 |  Test MAE: 1967.311807173397\n",
      "epoch: 7\n",
      "Train cost: 4167486.080529542 |  Test cost: 48316612.9232931\n",
      "Train MAE: 1781.1077880153277 |  Test MAE: 6043.346542463601\n",
      "epoch: 8\n",
      "Train cost: 39326388.8860796 |  Test cost: 455942556.99837893\n",
      "Train MAE: 5471.801917844694 |  Test MAE: 18564.24850322739\n",
      "epoch: 9\n",
      "Train cost: 371103710.7581391 |  Test cost: 4302508490.964275\n",
      "Train MAE: 16808.071851041273 |  Test MAE: 57027.588716954066\n",
      "epoch: 10\n",
      "Train cost: 3501923529.4682946 |  Test cost: 40600623111.36291\n",
      "Train MAE: 51632.93207109592 |  Test MAE: 175182.14898927888\n",
      "epoch: 11\n",
      "Train cost: 33045934160.011345 |  Test cost: 383128370935.3986\n",
      "Train MAE: 158610.28746863667 |  Test MAE: 538140.748741898\n",
      "epoch: 12\n",
      "Train cost: 311838267981.6102 |  Test cost: 3615393559858.4644\n",
      "Train MAE: 487233.8270056193 |  Test MAE: 1653108.7945477986\n",
      "epoch: 13\n",
      "Train cost: 2942664744752.684 |  Test cost: 34116698856534.266\n",
      "Train MAE: 1496728.3499621428 |  Test MAE: 5078169.269631071\n",
      "epoch: 14\n",
      "Train cost: 27768483503820.957 |  Test cost: 321942536023659.3\n",
      "Train MAE: 4597785.643154645 |  Test MAE: 15599577.776500525\n",
      "epoch: 15\n",
      "Train cost: 262037555409500.38 |  Test cost: 3038013812050420.5\n",
      "Train MAE: 14123892.132277118 |  Test MAE: 47920190.764640115\n",
      "epoch: 16\n",
      "Train cost: 2472719852906770.5 |  Test cost: 2.866824571073403e+16\n",
      "Train MAE: 43387046.35383855 |  Test MAE: 147205563.58641702\n",
      "epoch: 17\n",
      "Train cost: 2.33338441178949e+16 |  Test cost: 2.7052817047757488e+17\n",
      "Train MAE: 133280241.87656023 |  Test MAE: 452199328.7683827\n",
      "epoch: 18\n",
      "Train cost: 2.2019003919031923e+17 |  Test cost: 2.5528416199053937e+18\n",
      "Train MAE: 409422269.29115254 |  Test MAE: 1389106685.0637708\n",
      "epoch: 19\n",
      "Train cost: 2.077825373036223e+18 |  Test cost: 2.4089913930839732e+19\n",
      "Train MAE: 1257700255.5546606 |  Test MAE: 4267183211.677141\n",
      "epoch: 20\n",
      "Train cost: 1.960741864940339e+19 |  Test cost: 2.273246990619092e+20\n",
      "Train MAE: 3863517088.570907 |  Test MAE: 13108318283.091202\n",
      "epoch: 21\n",
      "Train cost: 1.850255902550621e+20 |  Test cost: 2.1451516579941547e+21\n",
      "Train MAE: 11868300276.245266 |  Test MAE: 40267314456.22694\n",
      "epoch: 22\n",
      "Train cost: 1.7459957203635124e+21 |  Test cost: 2.02427437695872e+22\n",
      "Train MAE: 36458115294.4949 |  Test MAE: 123696768605.08543\n",
      "epoch: 23\n",
      "Train cost: 1.6476105015124027e+22 |  Test cost: 1.910208417198745e+23\n",
      "Train MAE: 111995327035.5696 |  Test MAE: 379982891089.8897\n",
      "epoch: 24\n",
      "Train cost: 1.554769197331579e+23 |  Test cost: 1.8025699671217053e+24\n",
      "Train MAE: 344037347421.5068 |  Test MAE: 1167265718811.8376\n",
      "epoch: 25\n",
      "Train cost: 1.4671594134366984e+24 |  Test cost: 1.7009968426059139e+25\n",
      "Train MAE: 1056844955530.3096 |  Test MAE: 3585712120898.141\n",
      "epoch: 26\n",
      "Train cost: 1.3844863585735472e+25 |  Test cost: 1.6051472682493604e+26\n",
      "Train MAE: 3246511660440.249 |  Test MAE: 11014913919547.188\n",
      "epoch: 27\n",
      "Train cost: 1.3064718526981979e+26 |  Test cost: 1.5146987273778067e+27\n",
      "Train MAE: 9972927349672.28 |  Test MAE: 33836606108986.863\n",
      "epoch: 28\n",
      "Train cost: 1.232853390950899e+27 |  Test cost: 1.4293468768271245e+28\n",
      "Train MAE: 30635737777810.305 |  Test MAE: 103942338663482.25\n",
      "epoch: 29\n",
      "Train cost: 1.1633832603741866e+28 |  Test cost: 1.3488045228851005e+29\n",
      "Train MAE: 94109622609610.81 |  Test MAE: 319299451370351.4\n",
      "epoch: 30\n",
      "Train cost: 1.0978277064030671e+29 |  Test cost: 1.2728006549353024e+30\n",
      "Train MAE: 289094427297859.0 |  Test MAE: 980852855115000.8\n",
      "epoch: 31\n",
      "Train cost: 1.035966146322731e+30 |  Test cost: 1.2010795335550166e+31\n",
      "Train MAE: 888066337715201.9 |  Test MAE: 3013072271995085.0\n",
      "epoch: 32\n",
      "Train cost: 9.775904270471489e+30 |  Test cost: 1.133399829997783e+32\n",
      "Train MAE: 2728042278623097.5 |  Test MAE: 9255827180317684.0\n",
      "epoch: 33\n",
      "Train cost: 9.225041247211842e+31 |  Test cost: 1.0695338141653228e+33\n",
      "Train MAE: 8380246337342635.0 |  Test MAE: 2.843288479608278e+16\n",
      "epoch: 34\n",
      "Train cost: 8.705218837894308e+32 |  Test cost: 1.0092665883364907e+34\n",
      "Train MAE: 2.5743196586377876e+16 |  Test MAE: 8.734270012586462e+16\n",
      "epoch: 35\n",
      "Train cost: 8.214687933079285e+33 |  Test cost: 9.52395364074883e+34\n",
      "Train MAE: 7.908027327691208e+16 |  Test MAE: 2.683071844446728e+17\n",
      "epoch: 36\n",
      "Train cost: 7.751797984001212e+34 |  Test cost: 8.98728779882006e+35\n",
      "Train MAE: 2.4292591638989632e+17 |  Test MAE: 8.242102101364943e+17\n",
      "epoch: 37\n",
      "Train cost: 7.314991448767108e+35 |  Test cost: 8.480862573000654e+36\n",
      "Train MAE: 7.462417415684385e+17 |  Test MAE: 2.531883266187107e+18\n",
      "epoch: 38\n",
      "Train cost: 6.902798551506684e+36 |  Test cost: 8.00297393297744e+37\n",
      "Train MAE: 2.2923726917852147e+18 |  Test MAE: 7.777667389653762e+18\n",
      "epoch: 39\n",
      "Train cost: 6.513832336839372e+37 |  Test cost: 7.552013868944878e+38\n",
      "Train MAE: 7.041917203663484e+18 |  Test MAE: 2.389214022302923e+19\n",
      "epoch: 40\n",
      "Train cost: 6.146784003017599e+38 |  Test cost: 7.126464980939524e+39\n",
      "Train MAE: 2.163199643799369e+19 |  Test MAE: 7.33940313770993e+19\n",
      "epoch: 41\n",
      "Train cost: 5.800418498042871e+39 |  Test cost: 6.724895373060689e+40\n",
      "Train MAE: 6.645111783619499e+19 |  Test MAE: 2.2545840563042212e+20\n",
      "epoch: 42\n",
      "Train cost: 5.473570363936817e+40 |  Test cost: 6.345953835396634e+41\n",
      "Train MAE: 2.0413053757369372e+20 |  Test MAE: 6.925834664707156e+20\n",
      "epoch: 43\n",
      "Train cost: 5.165139815183371e+41 |  Test cost: 5.988365297445034e+42\n",
      "Train MAE: 6.27066597628076e+20 |  Test MAE: 2.1275403624333475e+21\n",
      "epoch: 44\n",
      "Train cost: 4.8740890381473323e+42 |  Test cost: 5.650926537728693e+43\n",
      "Train MAE: 1.9262797351861027e+21 |  Test MAE: 6.535570386698535e+21\n",
      "epoch: 45\n",
      "Train cost: 4.599438699017023e+43 |  Test cost: 5.3325021351704745e+44\n",
      "Train MAE: 5.917319838473425e+21 |  Test MAE: 2.007655461381593e+22\n",
      "epoch: 46\n",
      "Train cost: 4.340264648521171e+44 |  Test cost: 5.032020648604438e+45\n",
      "Train MAE: 1.8177356814382055e+22 |  Test MAE: 6.167297134185472e+22\n",
      "epoch: 47\n",
      "Train cost: 4.095694812331886e+45 |  Test cost: 4.748471011567994e+46\n",
      "Train MAE: 5.58388442363804e+22 |  Test MAE: 1.8945259618977496e+23\n",
      "epoch: 48\n",
      "Train cost: 3.8649062566905593e+46 |  Test cost: 4.48089913024402e+47\n",
      "Train MAE: 1.7153079831649603e+23 |  Test MAE: 5.8197757335371716e+23\n",
      "epoch: 49\n",
      "Train cost: 3.6471224193828937e+47 |  Test cost: 4.2284046731058115e+48\n",
      "Train MAE: 5.269237781237015e+23 |  Test MAE: 1.7877712034487333e+24\n",
      "epoch: 50\n",
      "Train cost: 3.441610496745947e+48 |  Test cost: 3.9901380414625463e+49\n",
      "Train MAE: 1.6186519894803892e+24 |  Test MAE: 5.491836837393007e+24\n",
      "epoch: 51\n",
      "Train cost: 3.247678977914886e+49 |  Test cost: 3.76529751071159e+50\n",
      "Train MAE: 4.972321181591732e+24 |  Test MAE: 1.6870319753649464e+25\n",
      "epoch: 52\n",
      "Train cost: 3.06467531801257e+50 |  Test cost: 3.553126532678628e+51\n",
      "Train MAE: 1.5274424702522108e+25 |  Test MAE: 5.182376990017781e+25\n",
      "epoch: 53\n",
      "Train cost: 2.8919837424527625e+51 |  Test cost: 3.35291118996834e+52\n",
      "Train MAE: 4.692135553446519e+25 |  Test MAE: 1.591969308160617e+26\n",
      "epoch: 54\n",
      "Train cost: 2.7290231749687644e+52 |  Test cost: 3.1639777937600785e+53\n",
      "Train MAE: 1.4413725217606099e+26 |  Test MAE: 4.89035491437048e+26\n",
      "epoch: 55\n",
      "Train cost: 2.5752452823957223e+53 |  Test cost: 2.985690616965435e+54\n",
      "Train MAE: 4.427738122272518e+26 |  Test MAE: 1.502263332962108e+27\n",
      "epoch: 56\n",
      "Train cost: 2.430132629627568e+54 |  Test cost: 2.8174497551203055e+55\n",
      "Train MAE: 1.360152534022112e+27 |  Test MAE: 4.614788008393308e+27\n",
      "epoch: 57\n",
      "Train cost: 2.2931969385404407e+55 |  Test cost: 2.6586891078136707e+56\n",
      "Train MAE: 4.178239238000051e+27 |  Test MAE: 1.41761220520636e+28\n",
      "epoch: 58\n",
      "Train cost: 2.1639774450241395e+56 |  Test cost: 2.5088744738609266e+57\n",
      "Train MAE: 1.2835092163037837e+28 |  Test MAE: 4.3547490387314935e+28\n",
      "epoch: 59\n",
      "Train cost: 2.0420393485932697e+57 |  Test cost: 2.3675017538124541e+58\n",
      "Train MAE: 3.9427993815052394e+28 |  Test MAE: 1.3377310889879306e+29\n",
      "epoch: 60\n",
      "Train cost: 1.926972349361388e+58 |  Test cost: 2.2340952537491325e+59\n",
      "Train MAE: 1.2111846775487984e+29 |  Test MAE: 4.109363020758851e+29\n"
     ]
    },
    {
     "data": {
      "text/plain": "<Figure size 432x288 with 1 Axes>",
      "image/png": "[encoded data removed]"
     },
     "metadata": {
      "needs_background": "light"
     },
     "output_type": "display_data"
    }
   ],
   "source": [
    "# Feed list parameters to our created model\n",
    "lin_reg = multilinearRegression(X_train, y_train, X_test, y_test, 0.8, 60)"
   ],
   "metadata": {
    "collapsed": false,
    "pycharm": {
     "name": "#%%\n"
    }
   }
  },
  {
   "cell_type": "code",
   "execution_count": 27,
   "outputs": [],
   "source": [
    "# compare with sklearn model\n",
    "from sklearn.linear_model import LinearRegression\n",
    "lin_model = LinearRegression()\n",
    "model = lin_model.fit(X_train.T, y_train.T)\n",
    "predictions = model.predict(X_test.T)"
   ],
   "metadata": {
    "collapsed": false,
    "pycharm": {
     "name": "#%%\n"
    }
   }
  },
  {
   "cell_type": "code",
   "execution_count": 28,
   "outputs": [
    {
     "data": {
      "text/plain": "3.455034932248354"
     },
     "execution_count": 28,
     "metadata": {},
     "output_type": "execute_result"
    }
   ],
   "source": [
    "model_MAE = (1/y_test.shape[1]) * np.sum(np.abs(predictions - y_test.T))\n",
    "model_MAE"
   ],
   "metadata": {
    "collapsed": false,
    "pycharm": {
     "name": "#%%\n"
    }
   }
  }
 ],
 "metadata": {
  "kernelspec": {
   "display_name": "Python 3",
   "language": "python",
   "name": "python3"
  },
  "language_info": {
   "codemirror_mode": {
    "name": "ipython",
    "version": 2
   },
   "file_extension": ".py",
   "mimetype": "text/x-python",
   "name": "python",
   "nbconvert_exporter": "python",
   "pygments_lexer": "ipython2",
   "version": "2.7.6"
  }
 },
 "nbformat": 4,
 "nbformat_minor": 0
}